{
 "cells": [
  {
   "cell_type": "code",
   "execution_count": 1,
   "metadata": {},
   "outputs": [
    {
     "name": "stderr",
     "output_type": "stream",
     "text": [
      "/opt/anaconda3/envs/python3.8/lib/python3.8/site-packages/scipy/__init__.py:143: UserWarning: A NumPy version >=1.19.5 and <1.27.0 is required for this version of SciPy (detected version 1.19.0)\n",
      "  warnings.warn(f\"A NumPy version >={np_minversion} and <{np_maxversion}\"\n"
     ]
    }
   ],
   "source": [
    "import sys\n",
    "import os\n",
    "os.environ['TF_CPP_MIN_LOG_LEVEL'] = '4' \n",
    "from os.path import abspath\n",
    "import numpy as np\n",
    "import pandas as pd\n",
    "from utils.generate_network import generate_network\n",
    "from utils.prepare_data import prepare_data\n",
    "from utils.popphy_io import get_config, save_params, load_params\n",
    "from utils.popphy_io import get_stat, get_stat_dict\n",
    "from sklearn.model_selection import StratifiedKFold\n",
    "from sklearn.metrics import roc_curve\n",
    "from sklearn.preprocessing import StandardScaler, MinMaxScaler\n",
    "from models.PopPhy import PopPhyCNN\n",
    "from models.CNN1D import CNN1D\n",
    "from models.MLPNN import MLPNN\n",
    "from models.RF import RF\n",
    "from models.SVM import SVM\n",
    "from models.LASSO import LASSO\n",
    "import warnings\n",
    "from datetime import datetime\n",
    "import json\n",
    "import warnings\n",
    "warnings.filterwarnings(\"ignore\")"
   ]
  },
  {
   "cell_type": "code",
   "execution_count": 2,
   "metadata": {},
   "outputs": [
    {
     "name": "stdout",
     "output_type": "stream",
     "text": [
      "T2D\n"
     ]
    }
   ],
   "source": [
    "config = get_config()\n",
    "filt_thresh = config.get('Evaluation', 'FilterThresh')\n",
    "dataset = config.get('Evaluation', 'DataSet')\n",
    "num_runs = int(config.get('Evaluation', 'NumberRuns'))\n",
    "num_test = int(config.get('Evaluation', 'NumberTestSplits'))\n",
    "path = \"../data/\" + dataset \n",
    "\n",
    "print(dataset)"
   ]
  },
  {
   "cell_type": "code",
   "execution_count": 3,
   "metadata": {},
   "outputs": [
    {
     "name": "stdout",
     "output_type": "stream",
     "text": [
      "Creation of the directory ../results/notebook_results/T2D failed\n"
     ]
    }
   ],
   "source": [
    "results_dir = \"../results/notebook_results/\" + dataset\n",
    "\n",
    "try:\n",
    "    os.makedirs(results_dir)\n",
    "except OSError:\n",
    "    print (\"Creation of the directory %s failed\" % results_dir)\n",
    "else:\n",
    "    print (\"Successfully created the directory %s\" % results_dir)\n",
    "    "
   ]
  },
  {
   "cell_type": "code",
   "execution_count": 4,
   "metadata": {},
   "outputs": [
    {
     "name": "stdout",
     "output_type": "stream",
     "text": [
      "There are 216 raw features...\n",
      "Building tree structure...\n",
      "Found tree file...\n",
      "Populating trees...\n",
      "There are 406 tree features...\n",
      "There are 2 classes...n, t2d\n"
     ]
    }
   ],
   "source": [
    "my_maps, raw_x, tree_x, raw_features, tree_features, labels, label_set, g, feature_df = prepare_data(path, config)\n",
    "\n",
    "num_class = len(np.unique(labels))\n",
    "if num_class == 2:\n",
    "    metric = \"AUC\"\n",
    "else:\n",
    "    metric = \"MCC\"\n",
    "\n",
    "seed = np.random.randint(100)\n",
    "np.random.seed(seed)\n",
    "np.random.shuffle(my_maps)\n",
    "np.random.seed(seed)\n",
    "np.random.shuffle(raw_x)\n",
    "np.random.seed(seed)\n",
    "np.random.shuffle(tree_x)\n",
    "np.random.seed(seed)\n",
    "np.random.shuffle(labels)\n",
    "\n",
    "n_values = np.max(labels) + 1\n",
    "labels_oh = np.eye(n_values)[labels]\n",
    "\n",
    "tree_row = my_maps.shape[1]\n",
    "tree_col = my_maps.shape[2]\n",
    "\n",
    "print(\"There are %d classes...%s\" % (num_class, \", \".join(label_set)))\n",
    "cv_list = [\"Run_\" + str(x) + \"_CV_\" + str(y) for x in range(num_runs) for y in range(num_test)]\n",
    "seeds = np.random.randint(1000, size=num_runs)"
   ]
  },
  {
   "cell_type": "code",
   "execution_count": 5,
   "metadata": {},
   "outputs": [
    {
     "name": "stdout",
     "output_type": "stream",
     "text": [
      "Model: \"sequential\"\n",
      "_________________________________________________________________\n",
      "Layer (type)                 Output Shape              Param #   \n",
      "=================================================================\n",
      "gaussian_noise (GaussianNois (None, 10, 156, 1)        0         \n",
      "_________________________________________________________________\n",
      "conv_0 (Conv2D)              (None, 8, 147, 32)        992       \n",
      "_________________________________________________________________\n",
      "max_pooling2d (MaxPooling2D) (None, 4, 73, 32)         0         \n",
      "_________________________________________________________________\n",
      "flatten (Flatten)            (None, 9344)              0         \n",
      "_________________________________________________________________\n",
      "dropout (Dropout)            (None, 9344)              0         \n",
      "_________________________________________________________________\n",
      "fc_0 (Dense)                 (None, 32)                299040    \n",
      "_________________________________________________________________\n",
      "dropout_1 (Dropout)          (None, 32)                0         \n",
      "_________________________________________________________________\n",
      "output (Dense)               (None, 2)                 66        \n",
      "=================================================================\n",
      "Total params: 300,098\n",
      "Trainable params: 300,098\n",
      "Non-trainable params: 0\n",
      "_________________________________________________________________\n",
      "None\n",
      "\n",
      "\n",
      " Run\tFold\tAUC\n",
      "# 0\t0\t0.501\n",
      "# 0\t1\t0.569\n",
      "# 0\t2\t0.636\n",
      "# 0\t3\t0.760\n",
      "# 0\t4\t0.626\n",
      "# 0\t5\t0.742\n",
      "# 0\t6\t0.599\n",
      "# 0\t7\t0.742\n",
      "# 0\t8\t0.665\n",
      "# 0\t9\t0.738\n"
     ]
    }
   ],
   "source": [
    "popphy_stat_df = pd.DataFrame(index=[\"AUC\", \"MCC\", \"Precision\", \"Recall\", \"F1\"], columns=cv_list)\n",
    "\n",
    "feature_scores = {}\n",
    "\n",
    "for l in label_set:\n",
    "    feature_scores[l] = pd.DataFrame(index=tree_features)\n",
    "run = 0\n",
    "for seed in seeds:\n",
    "    skf = StratifiedKFold(n_splits=num_test, shuffle=True, random_state=seed)\n",
    "    fold = 0\n",
    "    for train_index, test_index in skf.split(my_maps, labels):\n",
    "        train_x, test_x = my_maps[train_index,:,:], my_maps[test_index,:,:]\n",
    "        train_y, test_y = labels_oh[train_index,:], labels_oh[test_index,:]\n",
    "        \n",
    "        train_x = np.log(train_x + 1)\n",
    "        test_x = np.log(test_x + 1)\n",
    "        \n",
    "        c_prob = [0] * len(np.unique(labels))\n",
    "        train_weights = []\n",
    "\n",
    "        for l in np.unique(labels):\n",
    "            a = float(len(labels))\n",
    "            b = 2.0 * float((np.sum(labels==l)))\n",
    "            c_prob[int(l)] = a/b\n",
    "\n",
    "        c_prob = np.array(c_prob).reshape(-1)\n",
    "\n",
    "        for l in np.argmax(train_y, 1):\n",
    "            train_weights.append(c_prob[int(l)])\n",
    "        train_weights = np.array(train_weights)\n",
    "        \n",
    "        scaler = MinMaxScaler().fit(train_x.reshape(-1, tree_row * tree_col))\n",
    "        train_x = np.clip(scaler.transform(train_x.reshape(-1, tree_row * tree_col)), 0, 1).reshape(-1, tree_row, tree_col)\n",
    "        test_x = np.clip(scaler.transform(test_x.reshape(-1, tree_row * tree_col)), 0, 1).reshape(-1, tree_row, tree_col)\n",
    "\n",
    "        train = [train_x, train_y]\n",
    "        test = [test_x, test_y]\n",
    "\n",
    "        popphy_model = PopPhyCNN((tree_row, tree_col), num_class, config)\n",
    "\n",
    "        if fold + run == 0:\n",
    "            print(popphy_model.model.summary())\n",
    "            print(\"\\n\\n Run\\tFold\\t%s\" % (metric))\n",
    "\n",
    "        popphy_model.train(train, train_weights)\n",
    "        preds, stats = popphy_model.test(test)\n",
    "        if num_class == 2:\n",
    "                popphy_stat_df.loc[\"AUC\"][\"Run_\" + str(run) + \"_CV_\" + str(fold)]=stats[\"AUC\"]\n",
    "        popphy_stat_df.loc[\"MCC\"][\"Run_\" + str(run) + \"_CV_\" + str(fold)]=stats[\"MCC\"]\n",
    "        popphy_stat_df.loc[\"Precision\"][\"Run_\" + str(run) + \"_CV_\" + str(fold)]=stats[\"Precision\"]\n",
    "        popphy_stat_df.loc[\"Recall\"][\"Run_\" + str(run) + \"_CV_\" + str(fold)]=stats[\"Recall\"]\n",
    "        popphy_stat_df.loc[\"F1\"][\"Run_\" + str(run) + \"_CV_\" + str(fold)]=stats[\"F1\"]\n",
    "\n",
    "        if metric == \"AUC\":\n",
    "                print(\"# %d\\t%d\\t%.3f\" % (run, fold, stats[\"AUC\"]))\n",
    "        if metric == \"MCC\":\n",
    "                print(\"# %d\\t%d\\t%.3f\\t\" % (run, fold, stats[\"MCC\"]))\n",
    "\n",
    "        scores = popphy_model.get_feature_scores(train, g, label_set, tree_features, config)\n",
    "        for l in range(len(label_set)):\n",
    "                score_list = scores[:,l]\n",
    "                lab = label_set[l]\n",
    "                feature_scores[lab][\"Run_\" + str(run) + \"_CV_\" + str(fold)] = score_list\n",
    "\n",
    "        popphy_model.destroy()\n",
    "        fold += 1\n",
    "    run += 1"
   ]
  },
  {
   "cell_type": "code",
   "execution_count": 6,
   "metadata": {},
   "outputs": [
    {
     "data": {
      "text/html": [
       "<div>\n",
       "<style scoped>\n",
       "    .dataframe tbody tr th:only-of-type {\n",
       "        vertical-align: middle;\n",
       "    }\n",
       "\n",
       "    .dataframe tbody tr th {\n",
       "        vertical-align: top;\n",
       "    }\n",
       "\n",
       "    .dataframe thead th {\n",
       "        text-align: right;\n",
       "    }\n",
       "</style>\n",
       "<table border=\"1\" class=\"dataframe\">\n",
       "  <thead>\n",
       "    <tr style=\"text-align: right;\">\n",
       "      <th></th>\n",
       "      <th>Run_0_CV_0</th>\n",
       "      <th>Run_0_CV_1</th>\n",
       "      <th>Run_0_CV_2</th>\n",
       "      <th>Run_0_CV_3</th>\n",
       "      <th>Run_0_CV_4</th>\n",
       "      <th>Run_0_CV_5</th>\n",
       "      <th>Run_0_CV_6</th>\n",
       "      <th>Run_0_CV_7</th>\n",
       "      <th>Run_0_CV_8</th>\n",
       "      <th>Run_0_CV_9</th>\n",
       "    </tr>\n",
       "  </thead>\n",
       "  <tbody>\n",
       "    <tr>\n",
       "      <th>AUC</th>\n",
       "      <td>0.501035</td>\n",
       "      <td>0.569358</td>\n",
       "      <td>0.635611</td>\n",
       "      <td>0.760331</td>\n",
       "      <td>0.626033</td>\n",
       "      <td>0.741736</td>\n",
       "      <td>0.599174</td>\n",
       "      <td>0.741736</td>\n",
       "      <td>0.665289</td>\n",
       "      <td>0.737603</td>\n",
       "    </tr>\n",
       "    <tr>\n",
       "      <th>MCC</th>\n",
       "      <td>0.136505</td>\n",
       "      <td>-0.089027</td>\n",
       "      <td>0.197516</td>\n",
       "      <td>0.46225</td>\n",
       "      <td>0.182574</td>\n",
       "      <td>0.27735</td>\n",
       "      <td>0.09245</td>\n",
       "      <td>0.377964</td>\n",
       "      <td>0.09759</td>\n",
       "      <td>0.3698</td>\n",
       "    </tr>\n",
       "    <tr>\n",
       "      <th>Precision</th>\n",
       "      <td>0.569215</td>\n",
       "      <td>0.456428</td>\n",
       "      <td>0.603387</td>\n",
       "      <td>0.735043</td>\n",
       "      <td>0.591667</td>\n",
       "      <td>0.641026</td>\n",
       "      <td>0.547009</td>\n",
       "      <td>0.696429</td>\n",
       "      <td>0.552381</td>\n",
       "      <td>0.688034</td>\n",
       "    </tr>\n",
       "    <tr>\n",
       "      <th>Recall</th>\n",
       "      <td>0.568182</td>\n",
       "      <td>0.454545</td>\n",
       "      <td>0.590909</td>\n",
       "      <td>0.727273</td>\n",
       "      <td>0.590909</td>\n",
       "      <td>0.636364</td>\n",
       "      <td>0.545455</td>\n",
       "      <td>0.681818</td>\n",
       "      <td>0.545455</td>\n",
       "      <td>0.681818</td>\n",
       "    </tr>\n",
       "    <tr>\n",
       "      <th>F1</th>\n",
       "      <td>0.568405</td>\n",
       "      <td>0.454545</td>\n",
       "      <td>0.585795</td>\n",
       "      <td>0.725</td>\n",
       "      <td>0.590062</td>\n",
       "      <td>0.633333</td>\n",
       "      <td>0.541667</td>\n",
       "      <td>0.675789</td>\n",
       "      <td>0.529915</td>\n",
       "      <td>0.679167</td>\n",
       "    </tr>\n",
       "  </tbody>\n",
       "</table>\n",
       "</div>"
      ],
      "text/plain": [
       "          Run_0_CV_0 Run_0_CV_1 Run_0_CV_2 Run_0_CV_3 Run_0_CV_4 Run_0_CV_5  \\\n",
       "AUC         0.501035   0.569358   0.635611   0.760331   0.626033   0.741736   \n",
       "MCC         0.136505  -0.089027   0.197516    0.46225   0.182574    0.27735   \n",
       "Precision   0.569215   0.456428   0.603387   0.735043   0.591667   0.641026   \n",
       "Recall      0.568182   0.454545   0.590909   0.727273   0.590909   0.636364   \n",
       "F1          0.568405   0.454545   0.585795      0.725   0.590062   0.633333   \n",
       "\n",
       "          Run_0_CV_6 Run_0_CV_7 Run_0_CV_8 Run_0_CV_9  \n",
       "AUC         0.599174   0.741736   0.665289   0.737603  \n",
       "MCC          0.09245   0.377964    0.09759     0.3698  \n",
       "Precision   0.547009   0.696429   0.552381   0.688034  \n",
       "Recall      0.545455   0.681818   0.545455   0.681818  \n",
       "F1          0.541667   0.675789   0.529915   0.679167  "
      ]
     },
     "execution_count": 6,
     "metadata": {},
     "output_type": "execute_result"
    }
   ],
   "source": [
    "popphy_stat_df.to_csv(os.path.join(results_dir, \"\\popphy_tree_evaluation.csv\"))\n",
    "popphy_stat_df "
   ]
  },
  {
   "cell_type": "code",
   "execution_count": 7,
   "metadata": {},
   "outputs": [
    {
     "data": {
      "text/plain": [
       "AUC          0.657790\n",
       "MCC          0.210497\n",
       "Precision    0.608062\n",
       "Recall       0.602273\n",
       "F1           0.598368\n",
       "dtype: float64"
      ]
     },
     "execution_count": 7,
     "metadata": {},
     "output_type": "execute_result"
    }
   ],
   "source": [
    "popphy_stat_df.mean(1)"
   ]
  },
  {
   "cell_type": "code",
   "execution_count": null,
   "metadata": {},
   "outputs": [],
   "source": []
  }
 ],
 "metadata": {
  "kernelspec": {
   "display_name": "python3.8",
   "language": "python",
   "name": "python3"
  },
  "language_info": {
   "codemirror_mode": {
    "name": "ipython",
    "version": 3
   },
   "file_extension": ".py",
   "mimetype": "text/x-python",
   "name": "python",
   "nbconvert_exporter": "python",
   "pygments_lexer": "ipython3",
   "version": "3.8.10"
  }
 },
 "nbformat": 4,
 "nbformat_minor": 2
}
