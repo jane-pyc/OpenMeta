{
 "cells": [
  {
   "cell_type": "code",
   "execution_count": 1,
   "metadata": {},
   "outputs": [
    {
     "name": "stderr",
     "output_type": "stream",
     "text": [
      "/opt/anaconda3/envs/python3.8/lib/python3.8/site-packages/scipy/__init__.py:143: UserWarning: A NumPy version >=1.19.5 and <1.27.0 is required for this version of SciPy (detected version 1.19.0)\n",
      "  warnings.warn(f\"A NumPy version >={np_minversion} and <{np_maxversion}\"\n"
     ]
    }
   ],
   "source": [
    "import sys\n",
    "import os\n",
    "os.environ['TF_CPP_MIN_LOG_LEVEL'] = '5' \n",
    "from os.path import abspath\n",
    "import numpy as np\n",
    "import pandas as pd\n",
    "from utils.generate_network import generate_network\n",
    "from utils.prepare_data import prepare_data\n",
    "from utils.popphy_io import get_config, save_params, load_params\n",
    "from utils.popphy_io import get_stat, get_stat_dict\n",
    "from sklearn.model_selection import StratifiedKFold\n",
    "from sklearn.metrics import roc_curve\n",
    "from sklearn.preprocessing import StandardScaler, MinMaxScaler\n",
    "from models.PopPhy import PopPhyCNN\n",
    "from models.CNN1D import CNN1D\n",
    "from models.MLPNN import MLPNN\n",
    "from models.RF import RF\n",
    "from models.SVM import SVM\n",
    "from models.LASSO import LASSO\n",
    "import warnings\n",
    "from datetime import datetime\n",
    "import json\n",
    "import warnings\n",
    "warnings.filterwarnings(\"ignore\")"
   ]
  },
  {
   "cell_type": "code",
   "execution_count": 2,
   "metadata": {},
   "outputs": [
    {
     "name": "stdout",
     "output_type": "stream",
     "text": [
      "T2D\n"
     ]
    }
   ],
   "source": [
    "config = get_config()\n",
    "filt_thresh = config.get('Evaluation', 'FilterThresh')\n",
    "dataset = config.get('Evaluation', 'DataSet')\n",
    "num_runs = int(config.get('Evaluation', 'NumberRuns'))\n",
    "num_test = int(config.get('Evaluation', 'NumberTestSplits'))\n",
    "path = \"../data/\" + dataset \n",
    "\n",
    "print(dataset)"
   ]
  },
  {
   "cell_type": "code",
   "execution_count": 3,
   "metadata": {},
   "outputs": [
    {
     "name": "stdout",
     "output_type": "stream",
     "text": [
      "Creation of the directory ../results/notebook_results/T2D failed\n"
     ]
    }
   ],
   "source": [
    "results_dir = \"../results/notebook_results/\" + dataset\n",
    "\n",
    "try:\n",
    "    os.makedirs(results_dir)\n",
    "except OSError:\n",
    "    print (\"Creation of the directory %s failed\" % results_dir)\n",
    "else:\n",
    "    print (\"Successfully created the directory %s\" % results_dir)"
   ]
  },
  {
   "cell_type": "code",
   "execution_count": 4,
   "metadata": {},
   "outputs": [
    {
     "name": "stdout",
     "output_type": "stream",
     "text": [
      "There are 216 raw features...\n",
      "Building tree structure...\n",
      "Found tree file...\n",
      "Populating trees...\n",
      "There are 406 tree features...\n",
      "There are 2 classes...n, t2d\n"
     ]
    }
   ],
   "source": [
    "my_maps, raw_x, tree_x, raw_features, tree_features, labels, label_set, g, feature_df = prepare_data(path, config)\n",
    "\n",
    "num_class = len(np.unique(labels))\n",
    "if num_class == 2:\n",
    "    metric = \"AUC\"\n",
    "else:\n",
    "    metric = \"MCC\"\n",
    "\n",
    "seed = np.random.randint(100)\n",
    "np.random.seed(seed)\n",
    "np.random.shuffle(my_maps)\n",
    "np.random.seed(seed)\n",
    "np.random.shuffle(raw_x)\n",
    "np.random.seed(seed)\n",
    "np.random.shuffle(tree_x)\n",
    "np.random.seed(seed)\n",
    "np.random.shuffle(labels)\n",
    "\n",
    "n_values = np.max(labels) + 1\n",
    "labels_oh = np.eye(n_values)[labels]\n",
    "\n",
    "tree_row = my_maps.shape[1]\n",
    "tree_col = my_maps.shape[2]\n",
    "\n",
    "print(\"There are %d classes...%s\" % (num_class, \", \".join(label_set)))\n",
    "cv_list = [\"Run_\" + str(x) + \"_CV_\" + str(y) for x in range(num_runs) for y in range(num_test)]\n",
    "seeds = np.random.randint(1000, size=num_runs)"
   ]
  },
  {
   "cell_type": "code",
   "execution_count": 5,
   "metadata": {},
   "outputs": [],
   "source": [
    "rf_tree_stat_df = pd.DataFrame(index=[\"AUC\", \"MCC\", \"Precision\", \"Recall\", \"F1\"], columns=cv_list)\n",
    "\n",
    "run = 0\n",
    "for seed in seeds:\n",
    "    skf = StratifiedKFold(n_splits=num_test, shuffle=True, random_state=seed)\n",
    "    fold = 0\n",
    "    for train_index, test_index in skf.split(my_maps, labels):\n",
    "        train_x, test_x = tree_x[train_index,:], tree_x[test_index,:]\n",
    "        train_y_oh, test_y_oh = labels_oh[train_index,:], labels_oh[test_index,:]\n",
    "        train_y, test_y = labels[train_index], labels[test_index]\n",
    "        \n",
    "        train_x = np.log(train_x + 1)\n",
    "        test_x = np.log(test_x + 1)\n",
    "        \n",
    "        c_prob = [0] * len(np.unique(labels))\n",
    "        train_weights = []\n",
    "\n",
    "        for l in np.unique(labels):\n",
    "            a = float(len(labels))\n",
    "            b = 2.0 * float((np.sum(labels==l)))\n",
    "            c_prob[int(l)] = a/b\n",
    "\n",
    "        c_prob = np.array(c_prob).reshape(-1)\n",
    "\n",
    "        for l in np.argmax(train_y_oh, 1):\n",
    "            train_weights.append(c_prob[int(l)])\n",
    "        train_weights = np.array(train_weights)\n",
    "        \n",
    "        scaler = MinMaxScaler().fit(train_x)\n",
    "        train_x = np.clip(scaler.transform(train_x), 0, 1)\n",
    "        test_x = np.clip(scaler.transform(test_x), 0, 1) \n",
    "\n",
    "        train_oh = [train_x, train_y_oh]\n",
    "        test_oh = [test_x, test_y_oh]\n",
    "\n",
    "        train = [train_x, train_y]\n",
    "        test = [test_x, test_y]\n",
    "        \n",
    "        rf_model = RF(config)\n",
    "        \n",
    "        rf_model.train(train)\n",
    "        preds, rf_stats = rf_model.test(test)\n",
    "        if num_class == 2:\n",
    "                rf_tree_stat_df.loc[\"AUC\"][\"Run_\" + str(run) + \"_CV_\" + str(fold)]=rf_stats[\"AUC\"]\n",
    "        rf_tree_stat_df.loc[\"MCC\"][\"Run_\" + str(run) + \"_CV_\" + str(fold)]=rf_stats[\"MCC\"]\n",
    "        rf_tree_stat_df.loc[\"Precision\"][\"Run_\" + str(run) + \"_CV_\" + str(fold)]=rf_stats[\"Precision\"]\n",
    "        rf_tree_stat_df.loc[\"Recall\"][\"Run_\" + str(run) + \"_CV_\" + str(fold)]=rf_stats[\"Recall\"]\n",
    "        rf_tree_stat_df.loc[\"F1\"][\"Run_\" + str(run) + \"_CV_\" + str(fold)]=rf_stats[\"F1\"]\n",
    "               \n",
    "\n",
    "        del(rf_model)\n",
    "        \n",
    "        fold += 1\n",
    "    run += 1"
   ]
  },
  {
   "cell_type": "code",
   "execution_count": 6,
   "metadata": {},
   "outputs": [
    {
     "data": {
      "text/html": [
       "<div>\n",
       "<style scoped>\n",
       "    .dataframe tbody tr th:only-of-type {\n",
       "        vertical-align: middle;\n",
       "    }\n",
       "\n",
       "    .dataframe tbody tr th {\n",
       "        vertical-align: top;\n",
       "    }\n",
       "\n",
       "    .dataframe thead th {\n",
       "        text-align: right;\n",
       "    }\n",
       "</style>\n",
       "<table border=\"1\" class=\"dataframe\">\n",
       "  <thead>\n",
       "    <tr style=\"text-align: right;\">\n",
       "      <th></th>\n",
       "      <th>Run_0_CV_0</th>\n",
       "      <th>Run_0_CV_1</th>\n",
       "      <th>Run_0_CV_2</th>\n",
       "      <th>Run_0_CV_3</th>\n",
       "      <th>Run_0_CV_4</th>\n",
       "      <th>Run_0_CV_5</th>\n",
       "      <th>Run_0_CV_6</th>\n",
       "      <th>Run_0_CV_7</th>\n",
       "      <th>Run_0_CV_8</th>\n",
       "      <th>Run_0_CV_9</th>\n",
       "    </tr>\n",
       "  </thead>\n",
       "  <tbody>\n",
       "    <tr>\n",
       "      <th>AUC</th>\n",
       "      <td>0.805383</td>\n",
       "      <td>0.716356</td>\n",
       "      <td>0.729814</td>\n",
       "      <td>0.809917</td>\n",
       "      <td>0.714876</td>\n",
       "      <td>0.806818</td>\n",
       "      <td>0.771694</td>\n",
       "      <td>0.678719</td>\n",
       "      <td>0.627066</td>\n",
       "      <td>0.667355</td>\n",
       "    </tr>\n",
       "    <tr>\n",
       "      <th>MCC</th>\n",
       "      <td>0.456624</td>\n",
       "      <td>0.271222</td>\n",
       "      <td>0.271222</td>\n",
       "      <td>0.500517</td>\n",
       "      <td>0.229416</td>\n",
       "      <td>0.504715</td>\n",
       "      <td>0.29277</td>\n",
       "      <td>0.229416</td>\n",
       "      <td>0.182574</td>\n",
       "      <td>0.181818</td>\n",
       "    </tr>\n",
       "    <tr>\n",
       "      <th>Precision</th>\n",
       "      <td>0.732818</td>\n",
       "      <td>0.636364</td>\n",
       "      <td>0.636364</td>\n",
       "      <td>0.750518</td>\n",
       "      <td>0.615789</td>\n",
       "      <td>0.754737</td>\n",
       "      <td>0.657143</td>\n",
       "      <td>0.615789</td>\n",
       "      <td>0.591667</td>\n",
       "      <td>0.590909</td>\n",
       "    </tr>\n",
       "    <tr>\n",
       "      <th>Recall</th>\n",
       "      <td>0.727273</td>\n",
       "      <td>0.636364</td>\n",
       "      <td>0.636364</td>\n",
       "      <td>0.75</td>\n",
       "      <td>0.613636</td>\n",
       "      <td>0.75</td>\n",
       "      <td>0.636364</td>\n",
       "      <td>0.613636</td>\n",
       "      <td>0.590909</td>\n",
       "      <td>0.590909</td>\n",
       "    </tr>\n",
       "    <tr>\n",
       "      <th>F1</th>\n",
       "      <td>0.723828</td>\n",
       "      <td>0.636364</td>\n",
       "      <td>0.636364</td>\n",
       "      <td>0.749871</td>\n",
       "      <td>0.611832</td>\n",
       "      <td>0.748832</td>\n",
       "      <td>0.623932</td>\n",
       "      <td>0.611832</td>\n",
       "      <td>0.590062</td>\n",
       "      <td>0.590909</td>\n",
       "    </tr>\n",
       "  </tbody>\n",
       "</table>\n",
       "</div>"
      ],
      "text/plain": [
       "          Run_0_CV_0 Run_0_CV_1 Run_0_CV_2 Run_0_CV_3 Run_0_CV_4 Run_0_CV_5  \\\n",
       "AUC         0.805383   0.716356   0.729814   0.809917   0.714876   0.806818   \n",
       "MCC         0.456624   0.271222   0.271222   0.500517   0.229416   0.504715   \n",
       "Precision   0.732818   0.636364   0.636364   0.750518   0.615789   0.754737   \n",
       "Recall      0.727273   0.636364   0.636364       0.75   0.613636       0.75   \n",
       "F1          0.723828   0.636364   0.636364   0.749871   0.611832   0.748832   \n",
       "\n",
       "          Run_0_CV_6 Run_0_CV_7 Run_0_CV_8 Run_0_CV_9  \n",
       "AUC         0.771694   0.678719   0.627066   0.667355  \n",
       "MCC          0.29277   0.229416   0.182574   0.181818  \n",
       "Precision   0.657143   0.615789   0.591667   0.590909  \n",
       "Recall      0.636364   0.613636   0.590909   0.590909  \n",
       "F1          0.623932   0.611832   0.590062   0.590909  "
      ]
     },
     "execution_count": 6,
     "metadata": {},
     "output_type": "execute_result"
    }
   ],
   "source": [
    "rf_tree_stat_df.to_csv(os.path.join(results_dir, \"rf_tree_evaluation.csv\"))\n",
    "rf_tree_stat_df "
   ]
  },
  {
   "cell_type": "code",
   "execution_count": 7,
   "metadata": {},
   "outputs": [
    {
     "data": {
      "text/plain": [
       "AUC          0.732800\n",
       "MCC          0.312029\n",
       "Precision    0.658210\n",
       "Recall       0.654545\n",
       "F1           0.652382\n",
       "dtype: float64"
      ]
     },
     "execution_count": 7,
     "metadata": {},
     "output_type": "execute_result"
    }
   ],
   "source": [
    "rf_tree_stat_df_mean = rf_tree_stat_df.mean(1)\n",
    "\n",
    "rf_tree_stat_df_mean"
   ]
  }
 ],
 "metadata": {
  "kernelspec": {
   "display_name": "python3.8",
   "language": "python",
   "name": "python3"
  },
  "language_info": {
   "codemirror_mode": {
    "name": "ipython",
    "version": 3
   },
   "file_extension": ".py",
   "mimetype": "text/x-python",
   "name": "python",
   "nbconvert_exporter": "python",
   "pygments_lexer": "ipython3",
   "version": "3.8.10"
  }
 },
 "nbformat": 4,
 "nbformat_minor": 2
}
