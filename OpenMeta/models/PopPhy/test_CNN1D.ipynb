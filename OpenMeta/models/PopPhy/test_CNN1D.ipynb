{
 "cells": [
  {
   "cell_type": "code",
   "execution_count": 1,
   "metadata": {},
   "outputs": [
    {
     "name": "stderr",
     "output_type": "stream",
     "text": [
      "/opt/anaconda3/envs/python3.8/lib/python3.8/site-packages/scipy/__init__.py:143: UserWarning: A NumPy version >=1.19.5 and <1.27.0 is required for this version of SciPy (detected version 1.19.0)\n",
      "  warnings.warn(f\"A NumPy version >={np_minversion} and <{np_maxversion}\"\n"
     ]
    }
   ],
   "source": [
    "import sys\n",
    "import os\n",
    "os.environ['TF_CPP_MIN_LOG_LEVEL'] = '6' \n",
    "from os.path import abspath\n",
    "import numpy as np\n",
    "import pandas as pd\n",
    "from utils.generate_network import generate_network\n",
    "from utils.prepare_data import prepare_data\n",
    "from utils.popphy_io import get_config, save_params, load_params\n",
    "from utils.popphy_io import get_stat, get_stat_dict\n",
    "from sklearn.model_selection import StratifiedKFold\n",
    "from sklearn.metrics import roc_curve\n",
    "from sklearn.preprocessing import StandardScaler, MinMaxScaler\n",
    "from models.PopPhy import PopPhyCNN\n",
    "from models.CNN1D import CNN1D\n",
    "from models.MLPNN import MLPNN\n",
    "from models.RF import RF\n",
    "from models.SVM import SVM\n",
    "from models.LASSO import LASSO\n",
    "import warnings\n",
    "from datetime import datetime\n",
    "import json\n",
    "import warnings\n",
    "warnings.filterwarnings(\"ignore\")"
   ]
  },
  {
   "cell_type": "code",
   "execution_count": 2,
   "metadata": {},
   "outputs": [
    {
     "name": "stdout",
     "output_type": "stream",
     "text": [
      "T2D\n"
     ]
    }
   ],
   "source": [
    "config = get_config()\n",
    "filt_thresh = config.get('Evaluation', 'FilterThresh')\n",
    "dataset = config.get('Evaluation', 'DataSet')  # dataset is T2D or Cirrhosis\n",
    "num_runs = int(config.get('Evaluation', 'NumberRuns'))\n",
    "num_test = int(config.get('Evaluation', 'NumberTestSplits'))\n",
    "path = \"../data/\" + dataset \n",
    "\n",
    "print(dataset)"
   ]
  },
  {
   "cell_type": "code",
   "execution_count": 3,
   "metadata": {},
   "outputs": [
    {
     "name": "stdout",
     "output_type": "stream",
     "text": [
      "Creation of the directory ../results/notebook_results/T2D failed\n"
     ]
    }
   ],
   "source": [
    "results_dir = \"../results/notebook_results/\" + dataset\n",
    "\n",
    "try:\n",
    "    os.makedirs(results_dir)\n",
    "except OSError:\n",
    "    print (\"Creation of the directory %s failed\" % results_dir)\n",
    "else:\n",
    "    print (\"Successfully created the directory %s\" % results_dir)"
   ]
  },
  {
   "cell_type": "code",
   "execution_count": 4,
   "metadata": {},
   "outputs": [
    {
     "name": "stdout",
     "output_type": "stream",
     "text": [
      "There are 216 raw features...\n",
      "Building tree structure...\n",
      "Found tree file...\n",
      "Populating trees...\n",
      "There are 406 tree features...\n",
      "There are 2 classes...n, t2d\n"
     ]
    }
   ],
   "source": [
    "my_maps, raw_x, tree_x, raw_features, tree_features, labels, label_set, g, feature_df = prepare_data(path, config)\n",
    "\n",
    "num_class = len(np.unique(labels))\n",
    "if num_class == 2:\n",
    "    metric = \"AUC\"\n",
    "else:\n",
    "    metric = \"MCC\"\n",
    "\n",
    "\n",
    "seed = np.random.randint(100)\n",
    "np.random.seed(seed)\n",
    "np.random.shuffle(my_maps)\n",
    "np.random.seed(seed)\n",
    "np.random.shuffle(raw_x)\n",
    "np.random.seed(seed)\n",
    "np.random.shuffle(tree_x)\n",
    "np.random.seed(seed)\n",
    "np.random.shuffle(labels)\n",
    "\n",
    "n_values = np.max(labels) + 1\n",
    "labels_oh = np.eye(n_values)[labels]\n",
    " \n",
    "tree_row = my_maps.shape[1]\n",
    "tree_col = my_maps.shape[2]\n",
    "\n",
    "print(\"There are %d classes...%s\" % (num_class, \", \".join(label_set)))\n",
    "cv_list = [\"Run_\" + str(x) + \"_CV_\" + str(y) for x in range(num_runs) for y in range(num_test)]\n",
    "seeds = np.random.randint(1000, size=num_runs)"
   ]
  },
  {
   "cell_type": "code",
   "execution_count": 5,
   "metadata": {},
   "outputs": [
    {
     "name": "stdout",
     "output_type": "stream",
     "text": [
      "CNN-1D\n",
      "Model: \"sequential\"\n",
      "_________________________________________________________________\n",
      "Layer (type)                 Output Shape              Param #   \n",
      "=================================================================\n",
      "gaussian_noise (GaussianNois (None, 1, 406, 1)         0         \n",
      "_________________________________________________________________\n",
      "conv_0 (Conv2D)              (None, 1, 397, 32)        352       \n",
      "_________________________________________________________________\n",
      "max_pooling2d (MaxPooling2D) (None, 1, 198, 32)        0         \n",
      "_________________________________________________________________\n",
      "conv_1 (Conv2D)              (None, 1, 189, 32)        10272     \n",
      "_________________________________________________________________\n",
      "max_pooling2d_1 (MaxPooling2 (None, 1, 94, 32)         0         \n",
      "_________________________________________________________________\n",
      "flatten (Flatten)            (None, 3008)              0         \n",
      "_________________________________________________________________\n",
      "dropout (Dropout)            (None, 3008)              0         \n",
      "_________________________________________________________________\n",
      "fc_0 (Dense)                 (None, 32)                96288     \n",
      "_________________________________________________________________\n",
      "dropout_1 (Dropout)          (None, 32)                0         \n",
      "_________________________________________________________________\n",
      "fc_1 (Dense)                 (None, 32)                1056      \n",
      "_________________________________________________________________\n",
      "dropout_2 (Dropout)          (None, 32)                0         \n",
      "_________________________________________________________________\n",
      "output (Dense)               (None, 2)                 66        \n",
      "=================================================================\n",
      "Total params: 108,034\n",
      "Trainable params: 108,034\n",
      "Non-trainable params: 0\n",
      "_________________________________________________________________\n",
      "None\n",
      "\n",
      "\n",
      " Run\tFold\tRF AUC\t\tSVM AUC\t\tLASSO AUC\tMLPNN AUC\tCNN-1D AUC\n",
      "WARNING:tensorflow:5 out of the last 9 calls to <function Model.make_predict_function.<locals>.predict_function at 0x7f4b7005a160> triggered tf.function retracing. Tracing is expensive and the excessive number of tracings could be due to (1) creating @tf.function repeatedly in a loop, (2) passing tensors with different shapes, (3) passing Python objects instead of tensors. For (1), please define your @tf.function outside of the loop. For (2), @tf.function has experimental_relax_shapes=True option that relaxes argument shapes that can avoid unnecessary retracing. For (3), please refer to https://www.tensorflow.org/guide/function#controlling_retracing and https://www.tensorflow.org/api_docs/python/tf/function for  more details.\n",
      "WARNING:tensorflow:6 out of the last 11 calls to <function Model.make_predict_function.<locals>.predict_function at 0x7f4cf9615280> triggered tf.function retracing. Tracing is expensive and the excessive number of tracings could be due to (1) creating @tf.function repeatedly in a loop, (2) passing tensors with different shapes, (3) passing Python objects instead of tensors. For (1), please define your @tf.function outside of the loop. For (2), @tf.function has experimental_relax_shapes=True option that relaxes argument shapes that can avoid unnecessary retracing. For (3), please refer to https://www.tensorflow.org/guide/function#controlling_retracing and https://www.tensorflow.org/api_docs/python/tf/function for  more details.\n"
     ]
    }
   ],
   "source": [
    "cnn1d_tree_stat_df = pd.DataFrame(index=[\"AUC\", \"MCC\", \"Precision\", \"Recall\", \"F1\"], columns=cv_list)\n",
    "\n",
    "run = 0\n",
    "for seed in seeds:\n",
    "    skf = StratifiedKFold(n_splits=num_test, shuffle=True, random_state=seed)\n",
    "    fold = 0\n",
    "    for train_index, test_index in skf.split(my_maps, labels):\n",
    "        train_x, test_x = tree_x[train_index,:], tree_x[test_index,:]\n",
    "        train_y_oh, test_y_oh = labels_oh[train_index,:], labels_oh[test_index,:]\n",
    "        train_y, test_y = labels[train_index], labels[test_index]\n",
    "        \n",
    "        train_x = np.log(train_x + 1)\n",
    "        test_x = np.log(test_x + 1)\n",
    "        \n",
    "        c_prob = [0] * len(np.unique(labels))\n",
    "        train_weights = []\n",
    "\n",
    "        for l in np.unique(labels):\n",
    "            a = float(len(labels))\n",
    "            b = 2.0 * float((np.sum(labels==l)))\n",
    "            c_prob[int(l)] = a/b\n",
    "\n",
    "        c_prob = np.array(c_prob).reshape(-1)\n",
    "\n",
    "        for l in np.argmax(train_y_oh, 1):\n",
    "            train_weights.append(c_prob[int(l)])\n",
    "        train_weights = np.array(train_weights)\n",
    "        \n",
    "        scaler = MinMaxScaler().fit(train_x)\n",
    "        train_x = np.clip(scaler.transform(train_x), 0, 1)\n",
    "        test_x = np.clip(scaler.transform(test_x), 0, 1) \n",
    "\n",
    "        train_oh = [train_x, train_y_oh]\n",
    "        test_oh = [test_x, test_y_oh]\n",
    "\n",
    "        train = [train_x, train_y]\n",
    "        test = [test_x, test_y]\n",
    "        \n",
    "        cnn1D_model = CNN1D(train_x.shape[1], num_class, config)\n",
    "        \n",
    "        if fold + run == 0:\n",
    "            print(\"CNN-1D\")\n",
    "            print(cnn1D_model.model.summary())\n",
    "            print(\"\\n\\n Run\\tFold\\tRF %s\\t\\tSVM %s\\t\\tLASSO %s\\tMLPNN %s\\tCNN-1D %s\" % (metric, metric, \n",
    "                                                                                   metric, metric, metric))\n",
    "\n",
    "        cnn1D_model.train(train_oh, train_weights)\n",
    "        preds, cnn1d_stats = cnn1D_model.test(test_oh)\n",
    "        if num_class == 2:\n",
    "                cnn1d_tree_stat_df.loc[\"AUC\"][\"Run_\" + str(run) + \"_CV_\" + str(fold)]=cnn1d_stats[\"AUC\"]\n",
    "        cnn1d_tree_stat_df.loc[\"MCC\"][\"Run_\" + str(run) + \"_CV_\" + str(fold)]=cnn1d_stats[\"MCC\"]\n",
    "        cnn1d_tree_stat_df.loc[\"Precision\"][\"Run_\" + str(run) + \"_CV_\" + str(fold)]=cnn1d_stats[\"Precision\"]\n",
    "        cnn1d_tree_stat_df.loc[\"Recall\"][\"Run_\" + str(run) + \"_CV_\" + str(fold)]=cnn1d_stats[\"Recall\"]\n",
    "        cnn1d_tree_stat_df.loc[\"F1\"][\"Run_\" + str(run) + \"_CV_\" + str(fold)]=cnn1d_stats[\"F1\"]\n",
    "\n",
    "        cnn1D_model.destroy()\n",
    "        \n",
    "        fold += 1\n",
    "    run += 1"
   ]
  },
  {
   "cell_type": "code",
   "execution_count": 6,
   "metadata": {},
   "outputs": [
    {
     "data": {
      "text/html": [
       "<div>\n",
       "<style scoped>\n",
       "    .dataframe tbody tr th:only-of-type {\n",
       "        vertical-align: middle;\n",
       "    }\n",
       "\n",
       "    .dataframe tbody tr th {\n",
       "        vertical-align: top;\n",
       "    }\n",
       "\n",
       "    .dataframe thead th {\n",
       "        text-align: right;\n",
       "    }\n",
       "</style>\n",
       "<table border=\"1\" class=\"dataframe\">\n",
       "  <thead>\n",
       "    <tr style=\"text-align: right;\">\n",
       "      <th></th>\n",
       "      <th>Run_0_CV_0</th>\n",
       "      <th>Run_0_CV_1</th>\n",
       "      <th>Run_0_CV_2</th>\n",
       "      <th>Run_0_CV_3</th>\n",
       "      <th>Run_0_CV_4</th>\n",
       "      <th>Run_0_CV_5</th>\n",
       "      <th>Run_0_CV_6</th>\n",
       "      <th>Run_0_CV_7</th>\n",
       "      <th>Run_0_CV_8</th>\n",
       "      <th>Run_0_CV_9</th>\n",
       "    </tr>\n",
       "  </thead>\n",
       "  <tbody>\n",
       "    <tr>\n",
       "      <th>AUC</th>\n",
       "      <td>0.702479</td>\n",
       "      <td>0.588843</td>\n",
       "      <td>0.752066</td>\n",
       "      <td>0.613636</td>\n",
       "      <td>0.654959</td>\n",
       "      <td>0.630165</td>\n",
       "      <td>0.681818</td>\n",
       "      <td>0.726708</td>\n",
       "      <td>0.581781</td>\n",
       "      <td>0.521739</td>\n",
       "    </tr>\n",
       "    <tr>\n",
       "      <th>MCC</th>\n",
       "      <td>0.09245</td>\n",
       "      <td>-0.045883</td>\n",
       "      <td>0.318511</td>\n",
       "      <td>0.227508</td>\n",
       "      <td>0.091287</td>\n",
       "      <td>0.140028</td>\n",
       "      <td>0.321182</td>\n",
       "      <td>0.362319</td>\n",
       "      <td>0.089027</td>\n",
       "      <td>0.093168</td>\n",
       "    </tr>\n",
       "    <tr>\n",
       "      <th>Precision</th>\n",
       "      <td>0.547009</td>\n",
       "      <td>0.476842</td>\n",
       "      <td>0.65942</td>\n",
       "      <td>0.613872</td>\n",
       "      <td>0.545833</td>\n",
       "      <td>0.571895</td>\n",
       "      <td>0.662105</td>\n",
       "      <td>0.681818</td>\n",
       "      <td>0.545455</td>\n",
       "      <td>0.547713</td>\n",
       "    </tr>\n",
       "    <tr>\n",
       "      <th>Recall</th>\n",
       "      <td>0.545455</td>\n",
       "      <td>0.477273</td>\n",
       "      <td>0.659091</td>\n",
       "      <td>0.613636</td>\n",
       "      <td>0.545455</td>\n",
       "      <td>0.568182</td>\n",
       "      <td>0.659091</td>\n",
       "      <td>0.681818</td>\n",
       "      <td>0.545455</td>\n",
       "      <td>0.545455</td>\n",
       "    </tr>\n",
       "    <tr>\n",
       "      <th>F1</th>\n",
       "      <td>0.541667</td>\n",
       "      <td>0.474831</td>\n",
       "      <td>0.658915</td>\n",
       "      <td>0.613437</td>\n",
       "      <td>0.544513</td>\n",
       "      <td>0.562533</td>\n",
       "      <td>0.657499</td>\n",
       "      <td>0.681818</td>\n",
       "      <td>0.545455</td>\n",
       "      <td>0.545455</td>\n",
       "    </tr>\n",
       "  </tbody>\n",
       "</table>\n",
       "</div>"
      ],
      "text/plain": [
       "          Run_0_CV_0 Run_0_CV_1 Run_0_CV_2 Run_0_CV_3 Run_0_CV_4 Run_0_CV_5  \\\n",
       "AUC         0.702479   0.588843   0.752066   0.613636   0.654959   0.630165   \n",
       "MCC          0.09245  -0.045883   0.318511   0.227508   0.091287   0.140028   \n",
       "Precision   0.547009   0.476842    0.65942   0.613872   0.545833   0.571895   \n",
       "Recall      0.545455   0.477273   0.659091   0.613636   0.545455   0.568182   \n",
       "F1          0.541667   0.474831   0.658915   0.613437   0.544513   0.562533   \n",
       "\n",
       "          Run_0_CV_6 Run_0_CV_7 Run_0_CV_8 Run_0_CV_9  \n",
       "AUC         0.681818   0.726708   0.581781   0.521739  \n",
       "MCC         0.321182   0.362319   0.089027   0.093168  \n",
       "Precision   0.662105   0.681818   0.545455   0.547713  \n",
       "Recall      0.659091   0.681818   0.545455   0.545455  \n",
       "F1          0.657499   0.681818   0.545455   0.545455  "
      ]
     },
     "execution_count": 6,
     "metadata": {},
     "output_type": "execute_result"
    }
   ],
   "source": [
    "cnn1d_tree_stat_df.to_csv(os.path.join(results_dir, \"\\cnn1d_tree_evaluation.csv\"))\n",
    "cnn1d_tree_stat_df"
   ]
  },
  {
   "cell_type": "code",
   "execution_count": 7,
   "metadata": {},
   "outputs": [
    {
     "data": {
      "text/plain": [
       "AUC          0.645419\n",
       "MCC          0.168960\n",
       "Precision    0.585196\n",
       "Recall       0.584091\n",
       "F1           0.582612\n",
       "dtype: float64"
      ]
     },
     "execution_count": 7,
     "metadata": {},
     "output_type": "execute_result"
    }
   ],
   "source": [
    "rf_tree_stat_df_mean = cnn1d_tree_stat_df.mean(1)\n",
    "\n",
    "rf_tree_stat_df_mean\n"
   ]
  }
 ],
 "metadata": {
  "kernelspec": {
   "display_name": "python3.8",
   "language": "python",
   "name": "python3"
  },
  "language_info": {
   "codemirror_mode": {
    "name": "ipython",
    "version": 3
   },
   "file_extension": ".py",
   "mimetype": "text/x-python",
   "name": "python",
   "nbconvert_exporter": "python",
   "pygments_lexer": "ipython3",
   "version": "3.8.10"
  }
 },
 "nbformat": 4,
 "nbformat_minor": 2
}
